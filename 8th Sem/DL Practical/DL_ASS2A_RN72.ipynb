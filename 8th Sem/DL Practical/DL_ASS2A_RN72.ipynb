{
  "nbformat": 4,
  "nbformat_minor": 0,
  "metadata": {
    "colab": {
      "provenance": []
    },
    "kernelspec": {
      "name": "python3",
      "display_name": "Python 3"
    },
    "language_info": {
      "name": "python"
    }
  },
  "cells": [
    {
      "cell_type": "markdown",
      "source": [
        "Title:-Classification using Deep neural network (Any One from the following)\n",
        "1. Multiclass classification using Deep Neural Networks: Example: Use the OCR letter recognition dataset https://archive.ics.uci.edu/ml/datasets/letter+recognition\n",
        "<br>Name:-Pravin Jain\n",
        "<br>Roll No:-72\n",
        "<br>Subject:-LP-V"
      ],
      "metadata": {
        "id": "uB8a0qccta-I"
      }
    },
    {
      "cell_type": "code",
      "execution_count": null,
      "metadata": {
        "id": "Ennj5dWYXXjX"
      },
      "outputs": [],
      "source": [
        "import pandas as pd\n",
        "import matplotlib.pyplot as plt\n",
        "from sklearn import model_selection\n",
        "from sklearn.preprocessing import StandardScaler\n",
        "from sklearn.neural_network import MLPClassifier\n",
        "from sklearn.metrics import classification_report\n",
        "from sklearn.metrics import confusion_matrix\n",
        "from sklearn.metrics import accuracy_score\n",
        "from sklearn import preprocessing\n",
        "from yellowbrick.classifier import ConfusionMatrix"
      ]
    },
    {
      "cell_type": "code",
      "source": [
        "dataset = pd.read_csv(\"letter-recognition.data\", sep = \",\")"
      ],
      "metadata": {
        "id": "3tWFVDybYPHo"
      },
      "execution_count": null,
      "outputs": []
    },
    {
      "cell_type": "code",
      "source": [
        "names = ['Class',\n",
        "         'x-box',\n",
        "         'y-box',\n",
        "         'width',\n",
        "         'high',\n",
        "         'onpix',\n",
        "         'x-bar',\n",
        "         'y-bar',\n",
        "         'x2bar',\n",
        "         'y2bar',\n",
        "         'xybar',\n",
        "         'x2ybr',\n",
        "         'xy2br',\n",
        "         'x-ege',\n",
        "         'xegvy',\n",
        "         'y-ege',\n",
        "         'yegvx']"
      ],
      "metadata": {
        "id": "6PuWYVGsYTTv"
      },
      "execution_count": null,
      "outputs": []
    },
    {
      "cell_type": "code",
      "source": [
        "X = dataset.iloc[:, 1 : 17]\n",
        "Y = dataset.select_dtypes(include = [object])"
      ],
      "metadata": {
        "id": "w1o6kSQsYV9l"
      },
      "execution_count": null,
      "outputs": []
    },
    {
      "cell_type": "code",
      "source": [
        "X_train, X_validation, Y_train, Y_validation = model_selection.train_test_split(X, Y, test_size = 0.20, random_state = 10)"
      ],
      "metadata": {
        "id": "zKGNVYX8YXol"
      },
      "execution_count": null,
      "outputs": []
    },
    {
      "cell_type": "code",
      "source": [
        "scaler = StandardScaler()\n",
        "scaler.fit(X_train)"
      ],
      "metadata": {
        "colab": {
          "base_uri": "https://localhost:8080/",
          "height": 74
        },
        "id": "dn_q7-znYgtQ",
        "outputId": "15fb7171-af23-46e0-da9d-60fb042fb9ad"
      },
      "execution_count": null,
      "outputs": [
        {
          "output_type": "execute_result",
          "data": {
            "text/plain": [
              "StandardScaler()"
            ],
            "text/html": [
              "<style>#sk-container-id-1 {color: black;background-color: white;}#sk-container-id-1 pre{padding: 0;}#sk-container-id-1 div.sk-toggleable {background-color: white;}#sk-container-id-1 label.sk-toggleable__label {cursor: pointer;display: block;width: 100%;margin-bottom: 0;padding: 0.3em;box-sizing: border-box;text-align: center;}#sk-container-id-1 label.sk-toggleable__label-arrow:before {content: \"▸\";float: left;margin-right: 0.25em;color: #696969;}#sk-container-id-1 label.sk-toggleable__label-arrow:hover:before {color: black;}#sk-container-id-1 div.sk-estimator:hover label.sk-toggleable__label-arrow:before {color: black;}#sk-container-id-1 div.sk-toggleable__content {max-height: 0;max-width: 0;overflow: hidden;text-align: left;background-color: #f0f8ff;}#sk-container-id-1 div.sk-toggleable__content pre {margin: 0.2em;color: black;border-radius: 0.25em;background-color: #f0f8ff;}#sk-container-id-1 input.sk-toggleable__control:checked~div.sk-toggleable__content {max-height: 200px;max-width: 100%;overflow: auto;}#sk-container-id-1 input.sk-toggleable__control:checked~label.sk-toggleable__label-arrow:before {content: \"▾\";}#sk-container-id-1 div.sk-estimator input.sk-toggleable__control:checked~label.sk-toggleable__label {background-color: #d4ebff;}#sk-container-id-1 div.sk-label input.sk-toggleable__control:checked~label.sk-toggleable__label {background-color: #d4ebff;}#sk-container-id-1 input.sk-hidden--visually {border: 0;clip: rect(1px 1px 1px 1px);clip: rect(1px, 1px, 1px, 1px);height: 1px;margin: -1px;overflow: hidden;padding: 0;position: absolute;width: 1px;}#sk-container-id-1 div.sk-estimator {font-family: monospace;background-color: #f0f8ff;border: 1px dotted black;border-radius: 0.25em;box-sizing: border-box;margin-bottom: 0.5em;}#sk-container-id-1 div.sk-estimator:hover {background-color: #d4ebff;}#sk-container-id-1 div.sk-parallel-item::after {content: \"\";width: 100%;border-bottom: 1px solid gray;flex-grow: 1;}#sk-container-id-1 div.sk-label:hover label.sk-toggleable__label {background-color: #d4ebff;}#sk-container-id-1 div.sk-serial::before {content: \"\";position: absolute;border-left: 1px solid gray;box-sizing: border-box;top: 0;bottom: 0;left: 50%;z-index: 0;}#sk-container-id-1 div.sk-serial {display: flex;flex-direction: column;align-items: center;background-color: white;padding-right: 0.2em;padding-left: 0.2em;position: relative;}#sk-container-id-1 div.sk-item {position: relative;z-index: 1;}#sk-container-id-1 div.sk-parallel {display: flex;align-items: stretch;justify-content: center;background-color: white;position: relative;}#sk-container-id-1 div.sk-item::before, #sk-container-id-1 div.sk-parallel-item::before {content: \"\";position: absolute;border-left: 1px solid gray;box-sizing: border-box;top: 0;bottom: 0;left: 50%;z-index: -1;}#sk-container-id-1 div.sk-parallel-item {display: flex;flex-direction: column;z-index: 1;position: relative;background-color: white;}#sk-container-id-1 div.sk-parallel-item:first-child::after {align-self: flex-end;width: 50%;}#sk-container-id-1 div.sk-parallel-item:last-child::after {align-self: flex-start;width: 50%;}#sk-container-id-1 div.sk-parallel-item:only-child::after {width: 0;}#sk-container-id-1 div.sk-dashed-wrapped {border: 1px dashed gray;margin: 0 0.4em 0.5em 0.4em;box-sizing: border-box;padding-bottom: 0.4em;background-color: white;}#sk-container-id-1 div.sk-label label {font-family: monospace;font-weight: bold;display: inline-block;line-height: 1.2em;}#sk-container-id-1 div.sk-label-container {text-align: center;}#sk-container-id-1 div.sk-container {/* jupyter's `normalize.less` sets `[hidden] { display: none; }` but bootstrap.min.css set `[hidden] { display: none !important; }` so we also need the `!important` here to be able to override the default hidden behavior on the sphinx rendered scikit-learn.org. See: https://github.com/scikit-learn/scikit-learn/issues/21755 */display: inline-block !important;position: relative;}#sk-container-id-1 div.sk-text-repr-fallback {display: none;}</style><div id=\"sk-container-id-1\" class=\"sk-top-container\"><div class=\"sk-text-repr-fallback\"><pre>StandardScaler()</pre><b>In a Jupyter environment, please rerun this cell to show the HTML representation or trust the notebook. <br />On GitHub, the HTML representation is unable to render, please try loading this page with nbviewer.org.</b></div><div class=\"sk-container\" hidden><div class=\"sk-item\"><div class=\"sk-estimator sk-toggleable\"><input class=\"sk-toggleable__control sk-hidden--visually\" id=\"sk-estimator-id-1\" type=\"checkbox\" checked><label for=\"sk-estimator-id-1\" class=\"sk-toggleable__label sk-toggleable__label-arrow\">StandardScaler</label><div class=\"sk-toggleable__content\"><pre>StandardScaler()</pre></div></div></div></div></div>"
            ]
          },
          "metadata": {},
          "execution_count": 11
        }
      ]
    },
    {
      "cell_type": "code",
      "source": [
        "X_train = scaler.transform(X_train)\n",
        "X_validation = scaler.transform(X_validation)"
      ],
      "metadata": {
        "id": "7rdC_zxvYr9M"
      },
      "execution_count": null,
      "outputs": []
    },
    {
      "cell_type": "code",
      "source": [
        "mlp = MLPClassifier(hidden_layer_sizes = (250, 300), max_iter = 1000000, activation = 'logistic')"
      ],
      "metadata": {
        "id": "YqTJ3eijYuDh"
      },
      "execution_count": null,
      "outputs": []
    },
    {
      "cell_type": "code",
      "source": [
        "cm = ConfusionMatrix(mlp, classes=\"A,B,C,D,E,F,G,H,I,J,K,L,M,N,O,P,Q,R,S,T,U,V,W,X,Y,Z\".split(','))"
      ],
      "metadata": {
        "id": "AYfNppLkYyU4"
      },
      "execution_count": null,
      "outputs": []
    },
    {
      "cell_type": "code",
      "source": [
        "cm.fit(X_train, Y_train.values.ravel())\n"
      ],
      "metadata": {
        "colab": {
          "base_uri": "https://localhost:8080/",
          "height": 451
        },
        "id": "_pje62C1Y9fy",
        "outputId": "57a65754-10a2-4c5d-dea0-9fb66dc581e7"
      },
      "execution_count": null,
      "outputs": [
        {
          "output_type": "execute_result",
          "data": {
            "text/plain": [
              "ConfusionMatrix(ax=<Axes: >,\n",
              "                classes=['A', 'B', 'C', 'D', 'E', 'F', 'G', 'H', 'I', 'J', 'K',\n",
              "                         'L', 'M', 'N', 'O', 'P', 'Q', 'R', 'S', 'T', 'U', 'V',\n",
              "                         'W', 'X', 'Y', 'Z'],\n",
              "                cmap=<matplotlib.colors.ListedColormap object at 0x7f866057d520>,\n",
              "                estimator=MLPClassifier(activation='logistic',\n",
              "                                        hidden_layer_sizes=(250, 300),\n",
              "                                        max_iter=1000000))"
            ],
            "text/html": [
              "<style>#sk-container-id-2 {color: black;background-color: white;}#sk-container-id-2 pre{padding: 0;}#sk-container-id-2 div.sk-toggleable {background-color: white;}#sk-container-id-2 label.sk-toggleable__label {cursor: pointer;display: block;width: 100%;margin-bottom: 0;padding: 0.3em;box-sizing: border-box;text-align: center;}#sk-container-id-2 label.sk-toggleable__label-arrow:before {content: \"▸\";float: left;margin-right: 0.25em;color: #696969;}#sk-container-id-2 label.sk-toggleable__label-arrow:hover:before {color: black;}#sk-container-id-2 div.sk-estimator:hover label.sk-toggleable__label-arrow:before {color: black;}#sk-container-id-2 div.sk-toggleable__content {max-height: 0;max-width: 0;overflow: hidden;text-align: left;background-color: #f0f8ff;}#sk-container-id-2 div.sk-toggleable__content pre {margin: 0.2em;color: black;border-radius: 0.25em;background-color: #f0f8ff;}#sk-container-id-2 input.sk-toggleable__control:checked~div.sk-toggleable__content {max-height: 200px;max-width: 100%;overflow: auto;}#sk-container-id-2 input.sk-toggleable__control:checked~label.sk-toggleable__label-arrow:before {content: \"▾\";}#sk-container-id-2 div.sk-estimator input.sk-toggleable__control:checked~label.sk-toggleable__label {background-color: #d4ebff;}#sk-container-id-2 div.sk-label input.sk-toggleable__control:checked~label.sk-toggleable__label {background-color: #d4ebff;}#sk-container-id-2 input.sk-hidden--visually {border: 0;clip: rect(1px 1px 1px 1px);clip: rect(1px, 1px, 1px, 1px);height: 1px;margin: -1px;overflow: hidden;padding: 0;position: absolute;width: 1px;}#sk-container-id-2 div.sk-estimator {font-family: monospace;background-color: #f0f8ff;border: 1px dotted black;border-radius: 0.25em;box-sizing: border-box;margin-bottom: 0.5em;}#sk-container-id-2 div.sk-estimator:hover {background-color: #d4ebff;}#sk-container-id-2 div.sk-parallel-item::after {content: \"\";width: 100%;border-bottom: 1px solid gray;flex-grow: 1;}#sk-container-id-2 div.sk-label:hover label.sk-toggleable__label {background-color: #d4ebff;}#sk-container-id-2 div.sk-serial::before {content: \"\";position: absolute;border-left: 1px solid gray;box-sizing: border-box;top: 0;bottom: 0;left: 50%;z-index: 0;}#sk-container-id-2 div.sk-serial {display: flex;flex-direction: column;align-items: center;background-color: white;padding-right: 0.2em;padding-left: 0.2em;position: relative;}#sk-container-id-2 div.sk-item {position: relative;z-index: 1;}#sk-container-id-2 div.sk-parallel {display: flex;align-items: stretch;justify-content: center;background-color: white;position: relative;}#sk-container-id-2 div.sk-item::before, #sk-container-id-2 div.sk-parallel-item::before {content: \"\";position: absolute;border-left: 1px solid gray;box-sizing: border-box;top: 0;bottom: 0;left: 50%;z-index: -1;}#sk-container-id-2 div.sk-parallel-item {display: flex;flex-direction: column;z-index: 1;position: relative;background-color: white;}#sk-container-id-2 div.sk-parallel-item:first-child::after {align-self: flex-end;width: 50%;}#sk-container-id-2 div.sk-parallel-item:last-child::after {align-self: flex-start;width: 50%;}#sk-container-id-2 div.sk-parallel-item:only-child::after {width: 0;}#sk-container-id-2 div.sk-dashed-wrapped {border: 1px dashed gray;margin: 0 0.4em 0.5em 0.4em;box-sizing: border-box;padding-bottom: 0.4em;background-color: white;}#sk-container-id-2 div.sk-label label {font-family: monospace;font-weight: bold;display: inline-block;line-height: 1.2em;}#sk-container-id-2 div.sk-label-container {text-align: center;}#sk-container-id-2 div.sk-container {/* jupyter's `normalize.less` sets `[hidden] { display: none; }` but bootstrap.min.css set `[hidden] { display: none !important; }` so we also need the `!important` here to be able to override the default hidden behavior on the sphinx rendered scikit-learn.org. See: https://github.com/scikit-learn/scikit-learn/issues/21755 */display: inline-block !important;position: relative;}#sk-container-id-2 div.sk-text-repr-fallback {display: none;}</style><div id=\"sk-container-id-2\" class=\"sk-top-container\"><div class=\"sk-text-repr-fallback\"><pre>ConfusionMatrix(ax=&lt;Axes: &gt;,\n",
              "                classes=[&#x27;A&#x27;, &#x27;B&#x27;, &#x27;C&#x27;, &#x27;D&#x27;, &#x27;E&#x27;, &#x27;F&#x27;, &#x27;G&#x27;, &#x27;H&#x27;, &#x27;I&#x27;, &#x27;J&#x27;, &#x27;K&#x27;,\n",
              "                         &#x27;L&#x27;, &#x27;M&#x27;, &#x27;N&#x27;, &#x27;O&#x27;, &#x27;P&#x27;, &#x27;Q&#x27;, &#x27;R&#x27;, &#x27;S&#x27;, &#x27;T&#x27;, &#x27;U&#x27;, &#x27;V&#x27;,\n",
              "                         &#x27;W&#x27;, &#x27;X&#x27;, &#x27;Y&#x27;, &#x27;Z&#x27;],\n",
              "                cmap=&lt;matplotlib.colors.ListedColormap object at 0x7f866057d520&gt;,\n",
              "                estimator=MLPClassifier(activation=&#x27;logistic&#x27;,\n",
              "                                        hidden_layer_sizes=(250, 300),\n",
              "                                        max_iter=1000000))</pre><b>In a Jupyter environment, please rerun this cell to show the HTML representation or trust the notebook. <br />On GitHub, the HTML representation is unable to render, please try loading this page with nbviewer.org.</b></div><div class=\"sk-container\" hidden><div class=\"sk-item sk-dashed-wrapped\"><div class=\"sk-label-container\"><div class=\"sk-label sk-toggleable\"><input class=\"sk-toggleable__control sk-hidden--visually\" id=\"sk-estimator-id-2\" type=\"checkbox\" ><label for=\"sk-estimator-id-2\" class=\"sk-toggleable__label sk-toggleable__label-arrow\">ConfusionMatrix</label><div class=\"sk-toggleable__content\"><pre>ConfusionMatrix(ax=&lt;Axes: &gt;,\n",
              "                classes=[&#x27;A&#x27;, &#x27;B&#x27;, &#x27;C&#x27;, &#x27;D&#x27;, &#x27;E&#x27;, &#x27;F&#x27;, &#x27;G&#x27;, &#x27;H&#x27;, &#x27;I&#x27;, &#x27;J&#x27;, &#x27;K&#x27;,\n",
              "                         &#x27;L&#x27;, &#x27;M&#x27;, &#x27;N&#x27;, &#x27;O&#x27;, &#x27;P&#x27;, &#x27;Q&#x27;, &#x27;R&#x27;, &#x27;S&#x27;, &#x27;T&#x27;, &#x27;U&#x27;, &#x27;V&#x27;,\n",
              "                         &#x27;W&#x27;, &#x27;X&#x27;, &#x27;Y&#x27;, &#x27;Z&#x27;],\n",
              "                cmap=&lt;matplotlib.colors.ListedColormap object at 0x7f866057d520&gt;,\n",
              "                estimator=MLPClassifier(activation=&#x27;logistic&#x27;,\n",
              "                                        hidden_layer_sizes=(250, 300),\n",
              "                                        max_iter=1000000))</pre></div></div></div><div class=\"sk-parallel\"><div class=\"sk-parallel-item\"><div class=\"sk-item\"><div class=\"sk-label-container\"><div class=\"sk-label sk-toggleable\"><input class=\"sk-toggleable__control sk-hidden--visually\" id=\"sk-estimator-id-3\" type=\"checkbox\" ><label for=\"sk-estimator-id-3\" class=\"sk-toggleable__label sk-toggleable__label-arrow\">estimator: MLPClassifier</label><div class=\"sk-toggleable__content\"><pre>MLPClassifier(activation=&#x27;logistic&#x27;, hidden_layer_sizes=(250, 300),\n",
              "              max_iter=1000000)</pre></div></div></div><div class=\"sk-serial\"><div class=\"sk-item\"><div class=\"sk-estimator sk-toggleable\"><input class=\"sk-toggleable__control sk-hidden--visually\" id=\"sk-estimator-id-4\" type=\"checkbox\" ><label for=\"sk-estimator-id-4\" class=\"sk-toggleable__label sk-toggleable__label-arrow\">MLPClassifier</label><div class=\"sk-toggleable__content\"><pre>MLPClassifier(activation=&#x27;logistic&#x27;, hidden_layer_sizes=(250, 300),\n",
              "              max_iter=1000000)</pre></div></div></div></div></div></div></div></div></div></div>"
            ]
          },
          "metadata": {},
          "execution_count": 15
        },
        {
          "output_type": "display_data",
          "data": {
            "text/plain": [
              "<Figure size 576x396 with 1 Axes>"
            ],
            "image/png": "[encoded data removed]"
          },
          "metadata": {}
        }
      ]
    },
    {
      "cell_type": "code",
      "source": [
        "cm.score(X_validation, Y_validation)"
      ],
      "metadata": {
        "colab": {
          "base_uri": "https://localhost:8080/"
        },
        "id": "qg4mDJ6UZEAy",
        "outputId": "2c71d0eb-1f56-43c5-d203-00643813e8dd"
      },
      "execution_count": null,
      "outputs": [
        {
          "output_type": "stream",
          "name": "stderr",
          "text": [
            "/usr/local/lib/python3.9/dist-packages/sklearn/preprocessing/_label.py:116: DataConversionWarning: A column-vector y was passed when a 1d array was expected. Please change the shape of y to (n_samples, ), for example using ravel().\n",
            "  y = column_or_1d(y, warn=True)\n"
          ]
        },
        {
          "output_type": "execute_result",
          "data": {
            "text/plain": [
              "0.97475"
            ]
          },
          "metadata": {},
          "execution_count": 17
        }
      ]
    },
    {
      "cell_type": "code",
      "source": [
        "predictions = cm.predict(X_validation)"
      ],
      "metadata": {
        "id": "t14pXWHdZ2ED"
      },
      "execution_count": null,
      "outputs": []
    },
    {
      "cell_type": "code",
      "source": [
        "print(\"Accuracy: \", accuracy_score(Y_validation, predictions))\n"
      ],
      "metadata": {
        "id": "7NxjtkIcZ8ia",
        "outputId": "5bdfd6c6-e8be-4717-e625-53b5a1c3fb21",
        "colab": {
          "base_uri": "https://localhost:8080/"
        }
      },
      "execution_count": null,
      "outputs": [
        {
          "output_type": "stream",
          "name": "stdout",
          "text": [
            "Accuracy:  0.97475\n"
          ]
        }
      ]
    },
    {
      "cell_type": "code",
      "source": [
        "print(confusion_matrix(Y_validation, predictions))\n"
      ],
      "metadata": {
        "id": "lGPspDg7Z9-w",
        "outputId": "6bacdf47-eeb2-44ac-a2ab-b3c72f93da85",
        "colab": {
          "base_uri": "https://localhost:8080/"
        }
      },
      "execution_count": null,
      "outputs": [
        {
          "output_type": "stream",
          "name": "stdout",
          "text": [
            "[[170   0   0   0   0   0   0   0   0   0   0   0   0   0   0   0   0   0\n",
            "    0   0   0   0   0   0   0   0]\n",
            " [  0 138   0   0   1   0   0   0   1   0   2   0   0   0   0   0   0   2\n",
            "    0   0   0   0   0   0   0   0]\n",
            " [  0   0 157   0   1   0   1   0   0   0   0   0   0   0   1   0   0   1\n",
            "    0   0   0   0   0   0   0   0]\n",
            " [  0   1   0 168   0   0   0   1   0   0   0   0   0   1   1   0   0   1\n",
            "    0   1   0   0   0   0   0   0]\n",
            " [  0   0   3   0 142   1   0   0   0   0   0   1   0   0   0   0   0   0\n",
            "    0   0   0   0   0   0   0   1]\n",
            " [  0   0   0   0   0 135   0   0   1   0   0   0   0   0   0   0   0   0\n",
            "    0   1   0   0   0   0   0   0]\n",
            " [  0   1   0   0   2   0 133   1   0   0   0   1   1   0   0   1   1   0\n",
            "    0   0   0   0   0   0   0   0]\n",
            " [  0   0   0   1   0   0   0 129   0   0   3   0   0   2   0   0   0   2\n",
            "    0   0   0   1   0   0   0   0]\n",
            " [  0   0   0   0   0   0   0   0 144   4   0   0   0   0   0   0   0   0\n",
            "    0   0   0   0   0   0   0   0]\n",
            " [  0   0   0   0   0   0   0   0   2 138   0   0   0   0   0   0   0   0\n",
            "    0   0   0   0   0   0   0   0]\n",
            " [  0   0   0   0   0   0   0   2   0   0 134   0   0   0   0   0   0   0\n",
            "    0   0   0   0   0   0   0   0]\n",
            " [  1   0   0   0   0   0   2   0   0   0   0 162   0   0   0   0   0   0\n",
            "    1   0   0   0   0   1   0   0]\n",
            " [  0   0   0   0   0   0   1   0   0   0   0   0 167   0   0   0   0   0\n",
            "    0   0   0   0   0   0   0   0]\n",
            " [  0   0   0   0   0   0   0   0   0   0   1   0   0 145   1   0   0   2\n",
            "    0   0   0   0   0   0   0   0]\n",
            " [  0   0   0   2   0   0   0   1   0   0   0   0   0   0 151   0   0   0\n",
            "    0   0   0   0   0   0   0   0]\n",
            " [  0   0   0   0   0   3   0   0   0   0   0   0   0   1   0 152   1   0\n",
            "    0   0   0   0   1   0   1   0]\n",
            " [  0   0   0   0   0   0   0   0   0   0   0   1   0   0   2   1 138   0\n",
            "    0   0   0   0   0   0   0   0]\n",
            " [  0   1   0   1   0   0   0   5   0   0   1   0   0   1   0   0   0 152\n",
            "    0   0   0   0   0   0   0   0]\n",
            " [  0   2   0   0   2   0   0   0   0   0   0   0   0   0   0   0   0   0\n",
            "  141   0   0   0   0   0   0   0]\n",
            " [  0   0   0   1   0   0   0   0   0   0   0   0   0   0   0   0   0   0\n",
            "    0 159   0   0   0   0   0   0]\n",
            " [  0   0   0   0   0   0   0   0   0   0   1   0   1   1   0   0   0   0\n",
            "    0   0 158   0   0   0   0   0]\n",
            " [  0   0   0   0   0   0   0   0   0   0   0   0   0   0   0   1   0   0\n",
            "    0   0   0 158   2   0   0   0]\n",
            " [  0   0   0   0   0   0   0   0   0   0   1   0   0   0   0   0   0   0\n",
            "    0   0   0   2 155   0   0   0]\n",
            " [  0   0   0   0   0   0   0   0   0   0   2   0   0   0   0   0   0   0\n",
            "    0   0   0   0   0 161   0   0]\n",
            " [  0   0   0   0   0   0   0   0   0   0   0   0   0   0   0   0   0   0\n",
            "    0   1   0   0   0   0 166   0]\n",
            " [  0   0   0   0   2   0   0   0   0   0   0   0   0   0   0   0   0   0\n",
            "    0   0   0   0   0   0   0 146]]\n"
          ]
        }
      ]
    },
    {
      "cell_type": "code",
      "source": [
        "print(classification_report(Y_validation, predictions, digits=5))"
      ],
      "metadata": {
        "id": "-jcAAbc_aAHp",
        "outputId": "5e4f9adf-37e9-4533-dd86-6137b3d12729",
        "colab": {
          "base_uri": "https://localhost:8080/"
        }
      },
      "execution_count": null,
      "outputs": [
        {
          "output_type": "stream",
          "name": "stdout",
          "text": [
            "              precision    recall  f1-score   support\n",
            "\n",
            "           A    0.99415   1.00000   0.99707       170\n",
            "           B    0.96503   0.95833   0.96167       144\n",
            "           C    0.98125   0.97516   0.97819       161\n",
            "           D    0.97110   0.96552   0.96830       174\n",
            "           E    0.94667   0.95946   0.95302       148\n",
            "           F    0.97122   0.98540   0.97826       137\n",
            "           G    0.97080   0.94326   0.95683       141\n",
            "           H    0.92806   0.93478   0.93141       138\n",
            "           I    0.97297   0.97297   0.97297       148\n",
            "           J    0.97183   0.98571   0.97872       140\n",
            "           K    0.92414   0.98529   0.95374       136\n",
            "           L    0.98182   0.97006   0.97590       167\n",
            "           M    0.98817   0.99405   0.99110       168\n",
            "           N    0.96026   0.97315   0.96667       149\n",
            "           O    0.96795   0.98052   0.97419       154\n",
            "           P    0.98065   0.95597   0.96815       159\n",
            "           Q    0.98571   0.97183   0.97872       142\n",
            "           R    0.95000   0.94410   0.94704       161\n",
            "           S    0.99296   0.97241   0.98258       145\n",
            "           T    0.98148   0.99375   0.98758       160\n",
            "           U    1.00000   0.98137   0.99060       161\n",
            "           V    0.98137   0.98137   0.98137       161\n",
            "           W    0.98101   0.98101   0.98101       158\n",
            "           X    0.99383   0.98773   0.99077       163\n",
            "           Y    0.99401   0.99401   0.99401       167\n",
            "           Z    0.99320   0.98649   0.98983       148\n",
            "\n",
            "    accuracy                        0.97475      4000\n",
            "   macro avg    0.97422   0.97437   0.97422      4000\n",
            "weighted avg    0.97494   0.97475   0.97477      4000\n",
            "\n"
          ]
        }
      ]
    },
    {
      "cell_type": "code",
      "source": [
        "cm.poof()"
      ],
      "metadata": {
        "id": "Ka5H5XQdaCO0",
        "outputId": "bb6759f0-d938-41e5-88b0-e9c8fd37ef5c",
        "colab": {
          "base_uri": "https://localhost:8080/",
          "height": 52
        }
      },
      "execution_count": null,
      "outputs": [
        {
          "output_type": "display_data",
          "data": {
            "text/plain": [
              "<Figure size 576x396 with 0 Axes>"
            ]
          },
          "metadata": {}
        },
        {
          "output_type": "execute_result",
          "data": {
            "text/plain": [
              "<Axes: title={'center': 'MLPClassifier Confusion Matrix'}, xlabel='Predicted Class', ylabel='True Class'>"
            ]
          },
          "metadata": {},
          "execution_count": 22
        }
      ]
    }
  ]
}