{
  "nbformat": 4,
  "nbformat_minor": 0,
  "metadata": {
    "colab": {
      "provenance": []
    },
    "kernelspec": {
      "name": "python3",
      "display_name": "Python 3"
    },
    "language_info": {
      "name": "python"
    }
  },
  "cells": [
    {
      "cell_type": "markdown",
      "source": [
        "Title:-Binary classification using Deep Neural Networks Example: Classify movie reviews into\n",
        "positive\" reviews and \"negative\" reviews, just based on the text content of the reviews.\n",
        "Use IMDB dataset.\n",
        "<br>Name:-Pravin Jain\n",
        "<br>Roll No:-72\n",
        "<br>Subject:-LP-V"
      ],
      "metadata": {
        "id": "lyK8zcM33gWK"
      }
    },
    {
      "cell_type": "code",
      "execution_count": 1,
      "metadata": {
        "colab": {
          "base_uri": "https://localhost:8080/"
        },
        "id": "6gYLlf0h1g1r",
        "outputId": "ed211fb6-d896-4179-9ff4-498ae4f59e2d"
      },
      "outputs": [
        {
          "output_type": "stream",
          "name": "stdout",
          "text": [
            "Downloading data from https://storage.googleapis.com/tensorflow/tf-keras-datasets/imdb.npz\n",
            "17464789/17464789 [==============================] - 0s 0us/step\n",
            "Epoch 1/5\n",
            "782/782 [==============================] - 30s 37ms/step - loss: 0.3843 - accuracy: 0.8145 - val_loss: 0.3128 - val_accuracy: 0.8649\n",
            "Epoch 2/5\n",
            "782/782 [==============================] - 29s 37ms/step - loss: 0.0948 - accuracy: 0.9667 - val_loss: 0.4182 - val_accuracy: 0.8560\n",
            "Epoch 3/5\n",
            "782/782 [==============================] - 28s 36ms/step - loss: 0.0121 - accuracy: 0.9969 - val_loss: 0.5995 - val_accuracy: 0.8526\n",
            "Epoch 4/5\n",
            "782/782 [==============================] - 27s 35ms/step - loss: 0.0031 - accuracy: 0.9993 - val_loss: 0.6641 - val_accuracy: 0.8553\n",
            "Epoch 5/5\n",
            "782/782 [==============================] - 27s 34ms/step - loss: 0.0035 - accuracy: 0.9990 - val_loss: 0.7880 - val_accuracy: 0.8495\n",
            "782/782 [==============================] - 4s 5ms/step - loss: 0.7880 - accuracy: 0.8495\n",
            "Test Loss: 0.7880158424377441\n",
            "Test Accuracy: 0.8494799733161926\n"
          ]
        }
      ],
      "source": [
        "import numpy as np\n",
        "from tensorflow import keras\n",
        "from tensorflow.keras.datasets import imdb\n",
        "from tensorflow.keras.models import Sequential\n",
        "from tensorflow.keras.layers import Dense, Dropout, Embedding, Flatten\n",
        "\n",
        "# Set parameters\n",
        "max_words = 10000  # Consider only the top 10,000 most frequently occurring words\n",
        "max_length = 250  # Limit the review length to 250 words\n",
        "embedding_size = 50  # Dimensionality of the word embeddings\n",
        "\n",
        "# Load the IMDB dataset\n",
        "(x_train, y_train), (x_test, y_test) = imdb.load_data(num_words=max_words)\n",
        "\n",
        "# Preprocess the data\n",
        "x_train = keras.preprocessing.sequence.pad_sequences(x_train, maxlen=max_length)\n",
        "x_test = keras.preprocessing.sequence.pad_sequences(x_test, maxlen=max_length)\n",
        "\n",
        "# Build the model\n",
        "model = Sequential()\n",
        "model.add(Embedding(max_words, embedding_size, input_length=max_length))\n",
        "model.add(Flatten())\n",
        "model.add(Dense(128, activation='relu'))\n",
        "model.add(Dropout(0.5))\n",
        "model.add(Dense(1, activation='sigmoid'))\n",
        "\n",
        "# Compile the model\n",
        "model.compile(loss='binary_crossentropy', optimizer='adam', metrics=['accuracy'])\n",
        "\n",
        "# Train the model\n",
        "batch_size = 32\n",
        "epochs = 5\n",
        "model.fit(x_train, y_train, batch_size=batch_size, epochs=epochs, validation_data=(x_test, y_test))\n",
        "\n",
        "# Evaluate the model\n",
        "loss, accuracy = model.evaluate(x_test, y_test)\n",
        "print(\"Test Loss:\", loss)\n",
        "print(\"Test Accuracy:\", accuracy)\n"
      ]
    }
  ]
}